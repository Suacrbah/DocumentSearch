{
 "cells": [
  {
   "cell_type": "code",
   "execution_count": null,
   "metadata": {},
   "outputs": [],
   "source": [
    "import meilisearch\n",
    "import json, os\n",
    "\n",
    "client = meilisearch.Client('http://localhost:7700', api_key='xcz')"
   ]
  },
  {
   "cell_type": "code",
   "execution_count": null,
   "metadata": {},
   "outputs": [],
   "source": [
    "id = 100000\n",
    "for fn in os.listdir('data/json'):\n",
    "    with open('data/json/' + fn) as f:\n",
    "        book = json.load(f)\n",
    "\n",
    "    chapter_dict = {}\n",
    "    for para in book:\n",
    "        chapter, content = para['chapter'], para['text']\n",
    "        if chapter not in chapter_dict:\n",
    "            chapter_dict[chapter] = {\n",
    "                'id': str(id),\n",
    "                'title': para['source'],\n",
    "                'chapter': chapter,\n",
    "                'content': content\n",
    "            }\n",
    "            id += 1\n",
    "        else:\n",
    "            chapter_dict[chapter]['content'] += '\\n' + content\n",
    "\n",
    "    chapters = [chapter_dict[k] for k in chapter_dict]\n",
    "    client.index('books').add_documents(chapters)\n",
    "\n",
    "client.index('books').update_filterable_attributes([\n",
    "    'title',\n",
    "])"
   ]
  },
  {
   "cell_type": "code",
   "execution_count": null,
   "metadata": {},
   "outputs": [],
   "source": [
    "client.get_task(25)"
   ]
  },
  {
   "cell_type": "code",
   "execution_count": null,
   "metadata": {},
   "outputs": [],
   "source": [
    "client.index('books').search('文皇帝')['estimatedTotalHits']"
   ]
  },
  {
   "cell_type": "code",
   "execution_count": null,
   "metadata": {},
   "outputs": [],
   "source": [
    "from tqdm import tqdm\n",
    "\n",
    "for i in tqdm(range(1000000)):\n",
    "    client.index('books').search('皇帝')"
   ]
  }
 ],
 "metadata": {
  "kernelspec": {
   "display_name": "Python 3.8.2 64-bit",
   "language": "python",
   "name": "python3"
  },
  "language_info": {
   "codemirror_mode": {
    "name": "ipython",
    "version": 3
   },
   "file_extension": ".py",
   "mimetype": "text/x-python",
   "name": "python",
   "nbconvert_exporter": "python",
   "pygments_lexer": "ipython3",
   "version": "3.8.2"
  },
  "orig_nbformat": 4,
  "vscode": {
   "interpreter": {
    "hash": "916dbcbb3f70747c44a77c7bcd40155683ae19c65e1c03b4aa3499c5328201f1"
   }
  }
 },
 "nbformat": 4,
 "nbformat_minor": 2
}
